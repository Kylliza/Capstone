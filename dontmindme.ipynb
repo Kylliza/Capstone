{
 "cells": [
  {
   "attachments": {},
   "cell_type": "markdown",
   "metadata": {},
   "source": [
    "# HOMEWORK WEEK 5\n",
    "\n",
    "# 1. Goal: Mastery of these Knowledge Skills\n",
    "\n",
    "- ## Python Whiteboarding\n",
    "    - Understand the problem. Read it carefullyl and make the best interpretation of it and what they are asking. \n",
    "    - Plan a solution and think about different approaches on how to solve the problem. \n",
    "    - Write the pseudocode\n",
    "    - As you write the actual code, narrate your steps and try to be as clean, precise and informative as much as you can. Explain your code while you code kind of thing. \n",
    "    - Test it, and if there is any time left try to look for fixes if its not working.\n",
    "    - If there is any time left still, try to optimize your code.\n",
    "    - Be confident, fudge the imposter syndrome!!\n",
    "    - Practice Practice Practice before anything as much as you can"
   ]
  },
  {
   "attachments": {},
   "cell_type": "markdown",
   "metadata": {},
   "source": [
    "# Python intro to Pandas\n",
    "*Are these questions for discussion? Or more of \"study the material?\"*\n"
   ]
  },
  {
   "attachments": {},
   "cell_type": "markdown",
   "metadata": {},
   "source": [
    "# 2. Goal: Capstone Checklist Points\n",
    "    - Use the Python import methods, import some of your datasets.\n",
    "    - Remember to use copies of your datasets for any work you do to keep your originals safe.\n",
    "    - Experiment with manipulating the data in your datasets using Python and Pandas.\n",
    "    -Use Pandas to start cleaning your data -- finding and dealing with nulls and other non-conforming data.\n"
   ]
  },
  {
   "cell_type": "code",
   "execution_count": null,
   "metadata": {},
   "outputs": [],
   "source": [
    "# import pandas as pd\n",
    "\n",
    "# url = \"https://www.smogon.com/stats/2023-01/gen9vgc2023series1-0.txt\"\n",
    "\n",
    "# df = pd.read_csv(url, sep=\"\\t\")\n",
    "\n",
    "# df = df.fillna(0)\n",
    "\n",
    "# pd.set_option(\"display.max_rows\", None)\n",
    "# pd.set_option(\"display.max_columns\", None)\n",
    "\n",
    "# print(df)\n",
    "\n",
    "import pandas as pd\n",
    "\n",
    "url = \"https://www.smogon.com/stats/2023-01/gen9vgc2023series1-0.txt\"\n",
    "\n",
    "df = pd.read_csv(url, sep=\"\\t\")\n",
    "\n",
    "df = df.fillna(0)\n",
    "\n",
    "df.to_csv(\"my_dataframe.csv\", index=False)"
   ]
  },
  {
   "cell_type": "code",
   "execution_count": null,
   "metadata": {},
   "outputs": [],
   "source": [
    "# import pandas as pd\n",
    "\n",
    "# url = \"https://www.smogon.com/stats/2023-01/gen9vgc2023series1-0.txt\"\n",
    "\n",
    "# df = pd.read_csv(url, sep=\"\\t\")\n",
    "\n",
    "# df = df.fillna(0)\n",
    "\n",
    "# # Drop the 'Raw' column....nope it will not work jeeeez\n",
    "# # df = df.drop('Raw', axis=1) it is not a column or not axis I will try excel\n",
    "\n",
    "# # df.to_csv(\"my_dataframe.csv\", index=False)\n",
    "\n",
    "# print(df.columns) "
   ]
  },
  {
   "cell_type": "code",
   "execution_count": null,
   "metadata": {},
   "outputs": [],
   "source": [
    "import pandas as pd\n",
    "\n",
    "url = \"https://www.smogon.com/stats/2023-01/gen9vgc2023series1-0.txt\"\n",
    "\n",
    "df = pd.read_csv(url, sep=\"\\t\")\n",
    "\n",
    "df.to_csv(\"my_dataframe.csv\", index=False)"
   ]
  },
  {
   "cell_type": "code",
   "execution_count": 34,
   "metadata": {},
   "outputs": [],
   "source": [
    "import pandas as pd\n",
    "\n",
    "df = pd.read_csv(\"my_dataframe.csv\", sep=\"\\t\")\n",
    "\n",
    "df.to_excel(\"my_dataframexl.xlsx\", index=False)"
   ]
  }
 ],
 "metadata": {
  "kernelspec": {
   "display_name": "Python 3",
   "language": "python",
   "name": "python3"
  },
  "language_info": {
   "codemirror_mode": {
    "name": "ipython",
    "version": 3
   },
   "file_extension": ".py",
   "mimetype": "text/x-python",
   "name": "python",
   "nbconvert_exporter": "python",
   "pygments_lexer": "ipython3",
   "version": "3.11.2"
  },
  "orig_nbformat": 4,
  "vscode": {
   "interpreter": {
    "hash": "cc023e08409d3c363e1b8462bd785f053839683bfbb2acac275974a037729574"
   }
  }
 },
 "nbformat": 4,
 "nbformat_minor": 2
}
