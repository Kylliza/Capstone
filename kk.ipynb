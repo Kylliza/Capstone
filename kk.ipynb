{
 "cells": [
  {
   "cell_type": "code",
   "execution_count": 1,
   "metadata": {},
   "outputs": [],
   "source": [
    "import pandas as pd\n",
    "import requests\n",
    "from bs4 import BeautifulSoup\n",
    "\n",
    "if \"Pokemon_ds\" not in locals():\n",
    "    #requesting all Pokemon with names, stats, typing, abilities, and movesets\n",
    "    ds1_Pokemon = requests.get(\"https://pastebin.com/raw/0DV5kDEy\").text\n",
    "    ds2_Pokemon = requests.get(\"https://pastebin.com/raw/8PGBSP39\").text\n",
    "    Pokemon_ds  = ds1_Pokemon+ds2_Pokemon\n",
    "    Pokemon_ds  = Pokemon_ds.split(\"\\r\\n\\r\\n\")[1:len(Pokemon_ds)-1]\n",
    "\n",
    "    #setup dataframe\n",
    "    data=pd.DataFrame(columns=[\"p_name\",\"HP\",\"Att\",\"Def\",\"SAtt\",\"SDef\",\"Spd\",\"tStats\",\n",
    "                             \"type1\",\"type2\",\"Ab1\",\"Ab2\",\"HAb\",\"moveset\"])\n",
    "\n",
    "    for i,mon in enumerate(Pokemon_ds):\n",
    "        \n",
    "        if mon.split(\" \")[2] == \"-\":\n",
    "            name  = \" \".join(mon.split(\" \")[0:2])\n",
    "        elif mon.split(\" \")[0].replace(\"\\r\\n\",\"\").strip() == \"Flab颩\":\n",
    "            name  = \"Flabébé\"\n",
    "        else:\n",
    "            name  = mon.split(\" \")[0].replace(\"\\r\\n\",\"\").strip()\n",
    "        stats     = [int(stat) for stat in mon.split(\" -\")[1].split(\"(\")[0].strip().split(\"/\")] \n",
    "        tStats    = int(mon.split(\" -\")[1].strip().split(\" \")[2].replace(\")\",\"\"))\n",
    "        types     = mon.split(\" -\")[2].strip().split(\"/\")\n",
    "        abilities = mon.split(\"- \")[3].split(\"\\n\")[0].split(\"/\")\n",
    "            \n",
    "        try:\n",
    "            lvl_moves = [mv.strip().split(\"@\")[0].strip() for i, mv in enumerate(mon[mon.index(\"Learned Moves:\"):mon.index(\"TM Moves:\")].replace(\"Learned Moves:\\r\\n\",\"\").split(\"\\r\\n\")) if \"Egg Moves:\" not in mv ]\n",
    "        except:\n",
    "            lvl_moves = [mv.strip().split(\"@\")[0].strip() for i, mv in enumerate(mon[mon.index(\"Learned Moves:\"):len(mon)].replace(\"Learned Moves:\\r\\n\",\"\").split(\"\\r\\n\"))]\n",
    "        try:\n",
    "            egg_moves = [mv.strip() for mv in mon[mon.index(\"Egg Moves:\"):mon.index(\"TM Moves:\")].replace(\"Egg Moves:\\r\\n\",\"\").strip().split(\",\")]\n",
    "        except:\n",
    "            egg_moves = []\n",
    "            \n",
    "        try:\n",
    "            TM_moves  = [mv.strip() for mv in mon[mon.index(\"TM Moves:\"):len(mon)].replace(\"TM Moves:\\r\\n\",\"\").strip().split(\",\")]\n",
    "        except:\n",
    "            TM_moves  = []\n",
    "        moves = [*lvl_moves,*egg_moves,*TM_moves]\n",
    "        \n",
    "        data.loc[len(data)] = [name,stats[0],stats[1],stats[2],stats[3],stats[4],stats[5],\n",
    "                               tStats,types[0],types[1],abilities[0],abilities[1],abilities[2],moves]"
   ]
  }
 ],
 "metadata": {
  "kernelspec": {
   "display_name": "Python 3",
   "language": "python",
   "name": "python3"
  },
  "language_info": {
   "codemirror_mode": {
    "name": "ipython",
    "version": 3
   },
   "file_extension": ".py",
   "mimetype": "text/x-python",
   "name": "python",
   "nbconvert_exporter": "python",
   "pygments_lexer": "ipython3",
   "version": "3.11.2"
  },
  "orig_nbformat": 4
 },
 "nbformat": 4,
 "nbformat_minor": 2
}
