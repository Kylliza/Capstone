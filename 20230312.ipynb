{
 "cells": [
  {
   "cell_type": "code",
   "execution_count": null,
   "metadata": {},
   "outputs": [],
   "source": [
    "import requests\n",
    "from bs4 import BeautifulSoup\n",
    "import pandas as pd\n",
    "\n",
    "#sending the request to the website url\n",
    "\n",
    "url = \"https://pykalitycs.com/\"\"CAPSTONE QUESTIONS.txt\"\n",
    "response = requests.get(url)\n",
    "\n",
    "# Parse the HTML content using BeautifulSoup\n",
    "soup = BeautifulSoup(response.content, \"html.parser\")\n",
    "\n",
    "# Find the HTML tags that contain the blog post titles\n",
    "titles = [\"gen9vgc2023series2\", \"homebsd\"]\n",
    "for h2 in soup.find_all(\"h2\", class_=\"entry-title\"):\n",
    "    titles.append(h2.text.strip())\n",
    "\n",
    "# Convert the data into a pandas DataFrame and save it as a CSV file\n",
    "df = pd.DataFrame({\"Title\": titles})\n",
    "df.to_csv(\"pykalitycs_blog_titles.csv\", index=False)\n"
   ]
  },
  {
   "cell_type": "code",
   "execution_count": null,
   "metadata": {},
   "outputs": [],
   "source": [
    "import requests #example in rapidapi of tcg cards pokemon. \n",
    "\n",
    "url = \"https://pokedex2.p.rapidapi.com/pokedex/uk/pikachu\"\n",
    "\n",
    "headers = {\n",
    "\t\"X-RapidAPI-Key\": \"0e5cfbc59amshcb50571843c652ap1429eajsn6a7ed294e374\",\n",
    "\t\"X-RapidAPI-Host\": \"pokedex2.p.rapidapi.com\"\n",
    "}\n",
    "\n",
    "response = requests.request(\"GET\", url, headers=headers)\n",
    "\n",
    "print(response.text)"
   ]
  },
  {
   "cell_type": "code",
   "execution_count": null,
   "metadata": {},
   "outputs": [],
   "source": [
    "import requests\n",
    "from bs4 import BeautifulSoup\n",
    "import csv\n",
    "\n",
    "url = \"https://www.smogon.com/stats/2023-02/gen9vgc2023series2-1760.txt\"\n",
    "page = requests.get(url)\n",
    "soup = BeautifulSoup(page.content, 'html.parser')\n",
    "\n",
    "table = soup.find_all('pre')[0].get_text()\n",
    "\n",
    "table_lines = table.split('\\n')\n",
    "\n",
    "with open('smogon_data.csv', mode='w', newline='') as smogon_file:\n",
    "    writer = csv.writer(smogon_file)\n",
    "    writer.writerows([line.split() for line in table_lines])"
   ]
  },
  {
   "cell_type": "code",
   "execution_count": 1,
   "metadata": {},
   "outputs": [
    {
     "name": "stdout",
     "output_type": "stream",
     "text": [
      "   #                   Name Type 1  Type 2  Total  HP  Attack  Defense  \\\n",
      "0  1              Bulbasaur  Grass  Poison    318  45      49       49   \n",
      "1  2                Ivysaur  Grass  Poison    405  60      62       63   \n",
      "2  3               Venusaur  Grass  Poison    525  80      82       83   \n",
      "3  3  VenusaurMega Venusaur  Grass  Poison    625  80     100      123   \n",
      "4  4             Charmander   Fire     NaN    309  39      52       43   \n",
      "\n",
      "   Sp. Atk  Sp. Def  Speed  Generation  Legendary  \n",
      "0       65       65     45           1      False  \n",
      "1       80       80     60           1      False  \n",
      "2      100      100     80           1      False  \n",
      "3      122      120     80           1      False  \n",
      "4       60       50     65           1      False  \n"
     ]
    }
   ],
   "source": [
    "import pandas as pd\n",
    "\n",
    "poke = pd.read_csv('Pokemon.csv')\n",
    "\n",
    "print(poke.head(5))"
   ]
  },
  {
   "cell_type": "code",
   "execution_count": 8,
   "metadata": {},
   "outputs": [
    {
     "name": "stdout",
     "output_type": "stream",
     "text": [
      "                              Total battles: 1384164\n",
      "0                              Avg. weight/team: 1.0\n",
      "1   + ---- + ------------------ + --------- + ---...\n",
      "2   | Rank | Pokemon            | Usage %   | Raw...\n",
      "3   + ---- + ------------------ + --------- + ---...\n",
      "4   | 1    | Gholdengo          | 31.08104% | 860...\n"
     ]
    }
   ],
   "source": [
    "import pandas as pd\n",
    "\n",
    "poke1 = pd.read_csv('my_poke.csv', delimiter='\\t')\n",
    "\n",
    "print(poke1.head(5))\n",
    "\n",
    "# Yes, of course! CSV stands for \"Comma-Separated Values,\" but there are other delimiters that can be used instead of commas. Here are some of the most common types of delimited files:\n",
    "\n",
    "# Comma-separated values (CSV) - This is the most common type of delimited file, where each value is separated by a comma. It is also the default format used by many spreadsheet programs, such as Microsoft Excel.\n",
    "\n",
    "# Tab-separated values (TSV) - This format uses a tab character as the delimiter instead of a comma. TSV files are often used when a comma is needed as part of the data.\n",
    "\n",
    "# Pipe-separated values (PSV) - This format uses the vertical bar or \"pipe\" character as the delimiter. It is commonly used in Unix and Linux systems.\n",
    "\n",
    "# Colon-separated values (CSV) - This format uses the colon character as the delimiter. It is often used in Mac OS X systems.\n",
    "\n",
    "# Semicolon-separated values (SSV) - This format uses a semicolon as the delimiter. It is commonly used in European countries.\n",
    "\n",
    "# Python's built-in csv module supports all these delimiter types and more, allowing you to easily read and write delimited files in your Python code. You can specify the delimiter when reading or writing a CSV file using the delimiter parameter of the csv.reader() or csv.writer() functions."
   ]
  }
 ],
 "metadata": {
  "kernelspec": {
   "display_name": "Python 3",
   "language": "python",
   "name": "python3"
  },
  "language_info": {
   "codemirror_mode": {
    "name": "ipython",
    "version": 3
   },
   "file_extension": ".py",
   "mimetype": "text/x-python",
   "name": "python",
   "nbconvert_exporter": "python",
   "pygments_lexer": "ipython3",
   "version": "3.11.2"
  },
  "orig_nbformat": 4
 },
 "nbformat": 4,
 "nbformat_minor": 2
}
