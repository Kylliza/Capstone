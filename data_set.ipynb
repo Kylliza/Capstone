{
 "cells": [
  {
   "cell_type": "code",
   "execution_count": 9,
   "metadata": {},
   "outputs": [],
   "source": [
    "import pandas as pd\n",
    "\n",
    "# for delimiters\n",
    "import re \n",
    "\n",
    "def import_showdown_usage_stats(filepath=\"C:/Users/Ale/code/savvycoders/Capstone\", filename=\"2023-03\"):\n",
    "    \"\"\"\n",
    "    Imports the VGC series usage stats from Pokemon Showdown\n",
    "    \n",
    "    Inputs:\n",
    "    - filepath: string of the path to the file\n",
    "    - filename: string of the file name WITHOUT the extension - assumes txt / csv file\n",
    "    - file was taking from the pokemon showdown stats website: https://www.smogon.com/stats/2023-02/gen9vgc2023series2-1760.txt\n",
    "    \n",
    "    Returns a dataframe with the Pokemon, the raw counts for usage, and the percentage of teams it is used on ordered by most used. \n",
    "    \"\"\"\n",
    "\n",
    "    \"\"\"\n",
    "    Importing data, delimiter (pipe), and skipping first rows of the data\n",
    "    because is made to look \"cool\" in the website and cutting the few first\n",
    "    rows to create my own colums.\n",
    "\n",
    "    \"\"\"\n",
    "    usage_df = pd.read_csv(f\"{filepath}/{filename}.txt\", sep=\"|\",skiprows=5,names=[\"Rank\",\"Pokemon\",\"Count\",],usecols=[1,2,4])\n",
    "    # drop any NaNs in the table\n",
    "    usage_df.dropna(inplace=True)\n",
    "\n",
    "\n",
    "   # changing data type of the columns\n",
    "    for k, v in {\"Rank\":int,\"Pokemon\":str,\"Count\":int}.items():\n",
    "        usage_df[k] = usage_df[k].astype(v)\n",
    "\n",
    "\n",
    "    # fixing leading/trailing white spaces\n",
    "    usage_df[\"Pokemon\"] = usage_df[\"Pokemon\"].str.strip()\n",
    "\n",
    "    # getting the overall number of battles for percentage\n",
    "    usage_file = open(f\"{filepath}/{filename}.txt\",\"r\")\n",
    "    n = re.split(\"\\n| \",usage_file.readline())[3]\n",
    "\n",
    "    \n",
    "    # adding in percentage column\n",
    "    usage_df[\"n\"] = int(n)\n",
    "    usage_df[\"Percent\"] = usage_df[\"Count\"] / int(n)\n",
    "    \n",
    "    return usage_df.set_index(\"Pokemon\")\n",
    "\n",
    "\n",
    "# With this function defined above we can import 4 different datasets. \n",
    "\n"
   ]
  },
  {
   "cell_type": "code",
   "execution_count": 18,
   "metadata": {},
   "outputs": [
    {
     "name": "stdout",
     "output_type": "stream",
     "text": [
      "2023-03 \n",
      "               Rank    Count        n   Percent\n",
      "Pokemon                                       \n",
      "Flutter Mane     1  1454951  1878825  0.774394\n",
      "Iron Bundle      2  1165153  1878825  0.620150\n",
      "Iron Hands       3  1145260  1878825  0.609562\n",
      "Great Tusk       4   673071  1878825  0.358240\n",
      "Gholdengo        5   663711  1878825  0.353259\n",
      "2023-04 \n",
      "               Rank   Count       n   Percent\n",
      "Pokemon                                     \n",
      "Flutter Mane     1  670038  807139  0.830140\n",
      "Iron Bundle      2  477869  807139  0.592053\n",
      "Great Tusk       3  358174  807139  0.443758\n",
      "Dragonite        4  260431  807139  0.322659\n",
      "Arcanine         5  355436  807139  0.440365\n"
     ]
    }
   ],
   "source": [
    "usage = {}\n",
    "months = [\"2023-03\",\"2023-04\"]\n",
    "for file in months:\n",
    "    usage[file] = import_showdown_usage_stats(filename=file)\n",
    "    \n",
    "for key, df in usage.items():\n",
    "    print(key,\"\\n\", df.head())\n",
    "\n",
    "    "
   ]
  }
 ],
 "metadata": {
  "kernelspec": {
   "display_name": "Python 3",
   "language": "python",
   "name": "python3"
  },
  "language_info": {
   "codemirror_mode": {
    "name": "ipython",
    "version": 3
   },
   "file_extension": ".py",
   "mimetype": "text/x-python",
   "name": "python",
   "nbconvert_exporter": "python",
   "pygments_lexer": "ipython3",
   "version": "3.11.2"
  },
  "orig_nbformat": 4,
  "vscode": {
   "interpreter": {
    "hash": "cc023e08409d3c363e1b8462bd785f053839683bfbb2acac275974a037729574"
   }
  }
 },
 "nbformat": 4,
 "nbformat_minor": 2
}
